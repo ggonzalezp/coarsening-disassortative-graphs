{
 "cells": [
  {
   "cell_type": "code",
   "execution_count": 2,
   "id": "1bdbb3ca",
   "metadata": {},
   "outputs": [],
   "source": [
    "import networkx as nx\n",
    "from torch_geometric.utils import to_networkx\n",
    "\n",
    "from dataset import load_pyg_dataset"
   ]
  },
  {
   "cell_type": "code",
   "execution_count": 7,
   "id": "ad280520",
   "metadata": {},
   "outputs": [
    {
     "name": "stdout",
     "output_type": "stream",
     "text": [
      "Cora -0.0691\n",
      "Citeseer 0.1847\n",
      "Pubmed -0.007\n"
     ]
    }
   ],
   "source": [
    "# for data_name in ['WikiCS', \"Cornell\", \"Texas\", \"Wisconsin\", \"Chameleon\", \"Squirrel\", 'Crocodile',\n",
    "#                   'Actor', 'DeezerEurope', 'Twitch-DE', \"Twitch-EN\", \"Twitch-ES\", \n",
    "#                   \"Twitch-FR\", \"Twitch-PT\", \"Twitch-RU\"]:\n",
    "for data_name in ['Cora', 'Citeseer', 'Pubmed']:\n",
    "    data = load_pyg_dataset(data_name=data_name, quiet=True)\n",
    "    G = to_networkx(data)\n",
    "    print(data_name, round(nx.degree_assortativity_coefficient(G), 4))"
   ]
  },
  {
   "cell_type": "code",
   "execution_count": null,
   "id": "2c006b56",
   "metadata": {},
   "outputs": [],
   "source": []
  },
  {
   "cell_type": "code",
   "execution_count": null,
   "id": "a11262e8",
   "metadata": {},
   "outputs": [],
   "source": []
  }
 ],
 "metadata": {
  "kernelspec": {
   "display_name": "Python 3",
   "language": "python",
   "name": "python3"
  },
  "language_info": {
   "codemirror_mode": {
    "name": "ipython",
    "version": 3
   },
   "file_extension": ".py",
   "mimetype": "text/x-python",
   "name": "python",
   "nbconvert_exporter": "python",
   "pygments_lexer": "ipython3",
   "version": "3.9.5"
  }
 },
 "nbformat": 4,
 "nbformat_minor": 5
}
