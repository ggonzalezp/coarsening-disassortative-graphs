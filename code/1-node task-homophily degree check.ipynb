{
 "cells": [
  {
   "cell_type": "code",
   "execution_count": 18,
   "id": "82b9f41c",
   "metadata": {},
   "outputs": [],
   "source": [
    "from dataset import load_pyg_dataset\n",
    "from torch_geometric.utils import homophily\n",
    "import torch_geometric as tg"
   ]
  },
  {
   "cell_type": "code",
   "execution_count": null,
   "id": "1bd73f42",
   "metadata": {},
   "outputs": [],
   "source": []
  },
  {
   "cell_type": "code",
   "execution_count": 22,
   "id": "f79b51ac",
   "metadata": {},
   "outputs": [
    {
     "name": "stdout",
     "output_type": "stream",
     "text": [
      "WikiCS 11701 297110 300 0 10 0.692 0.622\n",
      "Cornell 183 298 1703 0 5 0.305 0.212\n",
      "Texas 183 325 1703 0 5 0.108 0.065\n",
      "Wisconsin 251 515 1703 0 5 0.196 0.172\n",
      "Chameleon 2277 72202 128 0 6 0.233 0.246\n",
      "Squirrel 5201 434146 128 0 5 0.224 0.221\n",
      "Crocodile 11631 360040 128 0 5 0.247 0.298\n",
      "Actor 7600 30019 932 0 5 0.219 0.159\n",
      "DeezerEurope 28281 185504 128 0 2 0.525 0.53\n",
      "Twitch-DE 9498 315774 128 0 2 0.643 0.643\n",
      "Twitch-EN 7126 77774 128 0 2 0.597 0.646\n",
      "Twitch-ES 4648 123412 128 0 2 0.596 0.662\n",
      "Twitch-FR 6551 231883 128 0 2 0.545 0.579\n",
      "Twitch-PT 1912 64510 128 0 2 0.584 0.634\n",
      "Twitch-RU 4385 78993 128 0 2 0.639 0.694\n"
     ]
    }
   ],
   "source": [
    "for data_name in ['WikiCS', \"Cornell\", \"Texas\", \"Wisconsin\", \"Chameleon\", \"Squirrel\", 'Crocodile',\n",
    "                  'Actor', 'DeezerEurope', 'Twitch-DE', \"Twitch-EN\", \"Twitch-ES\", \n",
    "                  \"Twitch-FR\", \"Twitch-PT\", \"Twitch-RU\"]:\n",
    "    data = load_pyg_dataset(data_name, quiet=True)\n",
    "    print(data_name, data.num_nodes, data.num_edges, data.num_node_features, data.num_edge_features, \n",
    "          data.num_classes, round(homophily(data.edge_index, data.y, 'edge'), 3), \n",
    "          round(homophily(data.edge_index, data.y, 'node'), 3))"
   ]
  },
  {
   "cell_type": "code",
   "execution_count": null,
   "id": "9b19b56c",
   "metadata": {},
   "outputs": [],
   "source": []
  },
  {
   "cell_type": "code",
   "execution_count": null,
   "id": "0b852bce",
   "metadata": {},
   "outputs": [],
   "source": []
  },
  {
   "cell_type": "code",
   "execution_count": null,
   "id": "0172d4fc",
   "metadata": {},
   "outputs": [],
   "source": []
  },
  {
   "cell_type": "code",
   "execution_count": null,
   "id": "fb62f1ac",
   "metadata": {},
   "outputs": [],
   "source": []
  },
  {
   "cell_type": "code",
   "execution_count": null,
   "id": "08f3afbf",
   "metadata": {},
   "outputs": [],
   "source": []
  },
  {
   "cell_type": "code",
   "execution_count": null,
   "id": "8a488a2f",
   "metadata": {},
   "outputs": [],
   "source": []
  }
 ],
 "metadata": {
  "kernelspec": {
   "display_name": "Python 3",
   "language": "python",
   "name": "python3"
  },
  "language_info": {
   "codemirror_mode": {
    "name": "ipython",
    "version": 3
   },
   "file_extension": ".py",
   "mimetype": "text/x-python",
   "name": "python",
   "nbconvert_exporter": "python",
   "pygments_lexer": "ipython3",
   "version": "3.9.5"
  }
 },
 "nbformat": 4,
 "nbformat_minor": 5
}
