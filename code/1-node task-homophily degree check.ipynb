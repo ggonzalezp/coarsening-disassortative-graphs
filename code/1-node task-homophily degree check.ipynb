{
 "cells": [
  {
   "cell_type": "code",
   "execution_count": 1,
   "id": "c8075c13",
   "metadata": {},
   "outputs": [],
   "source": [
    "from dataset import load_pyg_dataset\n",
    "from torch_geometric.utils import homophily\n",
    "import torch_geometric as tg"
   ]
  },
  {
   "cell_type": "code",
   "execution_count": null,
   "id": "cc8be807",
   "metadata": {},
   "outputs": [],
   "source": []
  },
  {
   "cell_type": "code",
   "execution_count": 3,
   "id": "c2363bc7",
   "metadata": {},
   "outputs": [
    {
     "name": "stdout",
     "output_type": "stream",
     "text": [
      "Cora 2708 10556 1433 0 7 0.81 0.825\n",
      "Citeseer 3327 9104 3703 0 6 0.736 0.706\n",
      "Pubmed 19717 88648 500 0 3 0.802 0.792\n"
     ]
    }
   ],
   "source": [
    "# for data_name in ['WikiCS', \"Cornell\", \"Texas\", \"Wisconsin\", \"Chameleon\", \"Squirrel\", 'Crocodile',\n",
    "#                   'Actor', 'DeezerEurope', 'Twitch-DE', \"Twitch-EN\", \"Twitch-ES\", \n",
    "#                   \"Twitch-FR\", \"Twitch-PT\", \"Twitch-RU\"]:\n",
    "for data_name in ['Cora', \"Citeseer\", \"Pubmed\"]:\n",
    "    data = load_pyg_dataset(data_name, quiet=True)\n",
    "    print(data_name, data.num_nodes, data.num_edges, data.num_node_features, data.num_edge_features, \n",
    "          data.num_classes, round(homophily(data.edge_index, data.y, 'edge'), 3), \n",
    "          round(homophily(data.edge_index, data.y, 'node'), 3))"
   ]
  },
  {
   "cell_type": "code",
   "execution_count": null,
   "id": "656e8f2a",
   "metadata": {},
   "outputs": [],
   "source": []
  }
 ],
 "metadata": {
  "kernelspec": {
   "display_name": "Python 3",
   "language": "python",
   "name": "python3"
  },
  "language_info": {
   "codemirror_mode": {
    "name": "ipython",
    "version": 3
   },
   "file_extension": ".py",
   "mimetype": "text/x-python",
   "name": "python",
   "nbconvert_exporter": "python",
   "pygments_lexer": "ipython3",
   "version": "3.9.5"
  }
 },
 "nbformat": 4,
 "nbformat_minor": 5
}
