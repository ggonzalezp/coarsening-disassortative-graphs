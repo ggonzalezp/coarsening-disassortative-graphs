{
 "cells": [
  {
   "cell_type": "code",
   "execution_count": 1,
   "id": "82a8ce42",
   "metadata": {},
   "outputs": [],
   "source": [
    "import numpy as np\n",
    "from sklearn.metrics import normalized_mutual_info_score\n",
    "\n",
    "import torch\n",
    "import torch.nn.functional as F\n",
    "import torch_geometric as tg\n",
    "from torch_geometric.nn import DenseSAGEConv, dense_diff_pool, dense_mincut_pool\n",
    "from torch_geometric.utils import to_dense_adj\n",
    "\n",
    "from dataset import load_pyg_dataset\n",
    "\n",
    "device = torch.device('cuda' if torch.cuda.is_available() else 'cpu')\n",
    "\n",
    "from tqdm.notebook import trange, tqdm"
   ]
  },
  {
   "cell_type": "code",
   "execution_count": 2,
   "id": "d62ecb10",
   "metadata": {},
   "outputs": [],
   "source": [
    "from scipy import sparse\n",
    "from scipy.linalg import eigh\n",
    "from scipy.sparse.linalg import eigsh\n",
    "from scipy.sparse.linalg import eigs\n",
    "from scipy.sparse.csgraph import connected_components\n",
    "from scipy.sparse.csgraph import laplacian as csgraph_laplacian\n",
    "\n",
    "from sklearn.utils.fixes import lobpcg\n",
    "from sklearn.utils import check_random_state\n",
    "from sklearn.utils import check_symmetric, check_array\n",
    "from sklearn.utils.extmath import _deterministic_vector_sign_flip\n",
    "from sklearn.cluster._kmeans import k_means\n",
    "from sklearn.metrics.pairwise import pairwise_kernels\n",
    "import sklearn.metrics.pairwise as kernels\n",
    "\n",
    "import matplotlib.pyplot as plt\n"
   ]
  },
  {
   "cell_type": "code",
   "execution_count": null,
   "id": "958fd080",
   "metadata": {},
   "outputs": [],
   "source": []
  },
  {
   "cell_type": "code",
   "execution_count": 18,
   "id": "84862405",
   "metadata": {},
   "outputs": [],
   "source": [
    "# pooling = 'mincut' #(options: diffpool, mincut)\n",
    "dataset_name = 'Wisconsin'\n",
    "\n",
    "# #Pooling selector\n",
    "# pooling_selector = {\n",
    "#     'diffpool': dense_diff_pool,\n",
    "#     'mincut': dense_mincut_pool\n",
    "# }"
   ]
  },
  {
   "cell_type": "code",
   "execution_count": 19,
   "id": "a817d4d8",
   "metadata": {},
   "outputs": [
    {
     "name": "stdout",
     "output_type": "stream",
     "text": [
      "The obtained data Wisconsin has 251 nodes, 515 edges, 1703 features, 5 labels, \n"
     ]
    }
   ],
   "source": [
    "data = load_pyg_dataset(\n",
    "    data_name=dataset_name,\n",
    "    device=device\n",
    ")\n",
    "num_clusters = data.y.max().tolist()+1\n",
    "data.adj = to_dense_adj(data.edge_index)"
   ]
  },
  {
   "cell_type": "code",
   "execution_count": 21,
   "id": "0497e8eb",
   "metadata": {},
   "outputs": [],
   "source": [
    "def create_affinity_matrix(x, adj, metric='rbf', kernel_params=None):\n",
    "    \"\"\"metric=None uses just the adjacency matrix\"\"\"\n",
    "    adj = np.maximum(adj, adj.T)\n",
    "    adj = np.maximum(adj, np.eye(adj.shape[0]))\n",
    "    if metric is None:\n",
    "        return adj\n",
    "    return pairwise_kernels(x, metric=metric, **kernel_params) * adj"
   ]
  },
  {
   "cell_type": "code",
   "execution_count": 6,
   "id": "cf0f2508",
   "metadata": {},
   "outputs": [],
   "source": [
    "def spectral_clustering(affinity, *, p1=0.00, p2=0.10, n_clusters=8, n_init=10, verbose=False):\n",
    "\n",
    "    random_state = check_random_state(None)\n",
    "#     n_components = n_clusters if n_components is None else n_components\n",
    "\n",
    "    # The first eigenvector is constant only for fully connected graphs\n",
    "    # and should be kept for spectral clustering (drop_first = False)\n",
    "    # See spectral_embedding documentation.\n",
    "#     maps = spectral_embedding(affinity, front=front, n_components=n_components,\n",
    "#                               eigen_solver=eigen_solver,\n",
    "#                               random_state=random_state,\n",
    "#                               eigen_tol=eigen_tol, drop_first=False)\n",
    "\n",
    "    \n",
    "    n = affinity.shape[0]\n",
    "    laplacian, dd = csgraph_laplacian(sparse.coo_matrix(affinity), normed=True,\n",
    "                                      return_diag=True)\n",
    "    \n",
    "    evalues, evectors = eigsh(laplacian, k=n-1)\n",
    "    \n",
    "#     fig = plt.figure(figsize=(8, 6))\n",
    "#     fig.patch.set_alpha(0)\n",
    "#     ax = fig.add_subplot(111)\n",
    "#     ax.patch.set_alpha(0)\n",
    "#     plt.plot(evalues, '.')\n",
    "#     plt.title('spectrum (example)')\n",
    "#     plt.show()\n",
    "    \n",
    "    k1 = int(n * p1)\n",
    "    k2 = int(n * p2)\n",
    "    maps = evectors[:, k1:k2]\n",
    "    \n",
    "    if verbose:\n",
    "        print(f'Computing label assignment using {assign_labels}')\n",
    "\n",
    "#     if assign_labels == 'kmeans':\n",
    "    _, labels, _ = k_means(maps, n_clusters, random_state=random_state,\n",
    "                           n_init=n_init, verbose=verbose)\n",
    "#     else:\n",
    "#         labels = discretize(maps, random_state=random_state)\n",
    "\n",
    "    return labels\n"
   ]
  },
  {
   "cell_type": "code",
   "execution_count": 29,
   "id": "eb57a61a",
   "metadata": {},
   "outputs": [],
   "source": [
    "def spectral_clustering(affinity, *, p1=0.00, p2=0.10, n_clusters=8, n_init=10, verbose=False):\n",
    "\n",
    "    random_state = check_random_state(None)\n",
    "#     n_components = n_clusters if n_components is None else n_components\n",
    "\n",
    "    # The first eigenvector is constant only for fully connected graphs\n",
    "    # and should be kept for spectral clustering (drop_first = False)\n",
    "    # See spectral_embedding documentation.\n",
    "#     maps = spectral_embedding(affinity, front=front, n_components=n_components,\n",
    "#                               eigen_solver=eigen_solver,\n",
    "#                               random_state=random_state,\n",
    "#                               eigen_tol=eigen_tol, drop_first=False)\n",
    "\n",
    "    \n",
    "    n = affinity.shape[0]\n",
    "    laplacian, dd = csgraph_laplacian(sparse.coo_matrix(affinity), normed=True,\n",
    "                                      return_diag=True)\n",
    "    \n",
    "    evalues, evectors = eigsh(laplacian, k=n-1)\n",
    "    \n",
    "#     fig = plt.figure(figsize=(8, 6))\n",
    "#     fig.patch.set_alpha(0)\n",
    "#     ax = fig.add_subplot(111)\n",
    "#     ax.patch.set_alpha(0)\n",
    "#     plt.plot(evalues, '.')\n",
    "#     plt.title('spectrum (example)')\n",
    "#     plt.show()\n",
    "    \n",
    "    k1 = int(n * 0.0333)\n",
    "    k2 = int(n * 0.9667)\n",
    "    k12 = int(n * (0.5 - 0.1 / 6))\n",
    "    k21 = int(n * (0.5 + 0.1 / 6))\n",
    "    maps = np.concatenate((evectors[:, :k1], evectors[:, k12:k21], evectors[:, k2:]), axis=1)\n",
    "    \n",
    "    if verbose:\n",
    "        print(f'Computing label assignment using {assign_labels}')\n",
    "\n",
    "#     if assign_labels == 'kmeans':\n",
    "    _, labels, _ = k_means(maps, n_clusters, random_state=random_state,\n",
    "                           n_init=n_init, verbose=verbose)\n",
    "#     else:\n",
    "#         labels = discretize(maps, random_state=random_state)\n",
    "\n",
    "    return labels\n"
   ]
  },
  {
   "cell_type": "code",
   "execution_count": 30,
   "id": "84c36fd2",
   "metadata": {},
   "outputs": [],
   "source": [
    "\n",
    "adj_np = np.array(create_affinity_matrix(data.x.cpu().numpy(), data.adj[0].cpu().numpy(), \n",
    "                                        metric='rbf', kernel_params={'gamma': 0.0001}))\n",
    "\n",
    "truth_node_labels = data.y.cpu().numpy()\n",
    "\n",
    "def test(p1, p2, metric='rbf', kernel_params=None, verbose=False):\n",
    "#     if adj_np is None:\n",
    "#         adj_np = create_affinity_matrix(data.x.cpu().numpy(), data.adj[0].cpu().numpy(), \n",
    "#                                         metric=metric, kernel_params=kernel_params)\n",
    "    pred_node_label = spectral_clustering(adj_np, p1=p1, p2=p2, n_clusters=num_clusters)\n",
    "#     else:\n",
    "#         from sklearn.cluster import SpectralClustering\n",
    "#         cluster = SpectralClustering(n_clusters=num_clusters, affinity='precomputed', eigen_solver='amg')\n",
    "#         cluster.fit(adj_np)\n",
    "#         pred_node_label = cluster.labels_\n",
    "    \n",
    "#     truth_node_labels = data.y.cpu().numpy()\n",
    "    \n",
    "#     if verbose:\n",
    "#         bins = np.arange(num_clusters + 1) - 0.5\n",
    "#         plt.hist(pred_node_label, bins=bins)\n",
    "#         print(pred_node_label.sum())\n",
    "#         plt.show()\n",
    "#         plt.hist(truth_node_labels, bins=bins)\n",
    "#         plt.show()\n",
    "        \n",
    "    nmi = normalized_mutual_info_score(truth_node_labels.flatten(), pred_node_label.flatten())\n",
    "    return nmi\n",
    "\n",
    "def multitest(n_runs=40, **kwargs):\n",
    "    scores = []\n",
    "    for it in range(n_runs):\n",
    "        val = test(**kwargs)\n",
    "        scores.append(val)\n",
    "\n",
    "    return np.mean(scores), np.std(scores)"
   ]
  },
  {
   "cell_type": "code",
   "execution_count": 31,
   "id": "2e6bf2be",
   "metadata": {},
   "outputs": [
    {
     "data": {
      "text/plain": [
       "(0.0636738437385651, 0.026395096840661134)"
      ]
     },
     "execution_count": 31,
     "metadata": {},
     "output_type": "execute_result"
    }
   ],
   "source": [
    "multitest(100, p1=0.0, p2=0.1)"
   ]
  },
  {
   "cell_type": "code",
   "execution_count": null,
   "id": "514a55a4",
   "metadata": {
    "scrolled": true
   },
   "outputs": [],
   "source": [
    "# p1s = np.linspace(0., 1., 10, endpoint=False)\n",
    "\n",
    "# vals = []\n",
    "# stds = []\n",
    "\n",
    "# adj_np = create_affinity_matrix(data.x.cpu().numpy(), data.adj[0].cpu().numpy(), \n",
    "#                                         metric='rbf', kernel_params={'gamma': 0.0001})\n",
    "\n",
    "# for p1 in tqdm(p1s):\n",
    "#     p2 = p1 + 0.1\n",
    "#     val, std = multitest(5, p1=p1, p2=p2, adj_np=adj_np)\n",
    "#     vals.append(val)\n",
    "#     stds.append(std)"
   ]
  },
  {
   "cell_type": "code",
   "execution_count": 14,
   "id": "3b1f3d6c",
   "metadata": {},
   "outputs": [
    {
     "name": "stdout",
     "output_type": "stream",
     "text": [
      "[(0.0008911172264220052, 0.0005008451369883135), (0.001094069223500455, 0.0013904276756071963), (0.00036868049096183887, 0.000371239819508842), (0.00032040495290111434, 0.0002702346010806716), (0.0006964741166194913, 0.0005818118336391537), (0.00022992957829640347, 0.000253432510014818), (0.00059902802784907, 0.0011228536999567434), (0.00030022170290106145, 0.0003049216512394403), (0.0005242821754393878, 0.00043808545070777574), (0.0006803457320949719, 0.00046590610988420084)]\n"
     ]
    }
   ],
   "source": [
    "from joblib import Parallel, delayed\n",
    "p1s = np.linspace(0., 1., 10, endpoint=False)\n",
    "\n",
    "vals = []\n",
    "stds = []\n",
    "\n",
    "\n",
    "# results = Parallel(n_jobs=5)(delayed(foo)(p1) for p1 in p1s)\n",
    "results = Parallel(n_jobs=5)(delayed(multitest)(10, p1=p1, p2=p1+0.1) for p1 in p1s)\n",
    "print(results)\n",
    "\n",
    "# for p1 in tqdm(p1s):\n",
    "#     p2 = p1 + 0.1\n",
    "#     val, std = multitest(5, p1=p1, p2=p2, adj_np=adj_np)\n",
    "#     vals.append(val)\n",
    "#     stds.append(std)"
   ]
  },
  {
   "cell_type": "code",
   "execution_count": 15,
   "id": "a2b288c4",
   "metadata": {},
   "outputs": [],
   "source": [
    "vals = np.array([v[0] for v in results])\n",
    "stds = np.array([v[1] for v in results])"
   ]
  },
  {
   "cell_type": "code",
   "execution_count": 17,
   "id": "85c836c0",
   "metadata": {},
   "outputs": [
    {
     "data": {
      "text/plain": [
       "Text(0.5, 1.0, 'Twitch-PT dataset')"
      ]
     },
     "execution_count": 17,
     "metadata": {},
     "output_type": "execute_result"
    },
    {
     "data": {
      "image/png": "[encoded data removed]",
      "text/plain": [
       "<Figure size 720x432 with 1 Axes>"
      ]
     },
     "metadata": {},
     "output_type": "display_data"
    }
   ],
   "source": [
    "plt.style.use('dark_background')\n",
    "\n",
    "fig = plt.figure(figsize=(10, 6))\n",
    "# fig.patch.set_alpha(0)\n",
    "ax = fig.add_subplot(111)\n",
    "# ax.patch.set_alpha(0)\n",
    "plt.plot(p1s, vals)\n",
    "plt.fill_between(p1s, vals + stds, vals - stds, alpha=0.5)\n",
    "plt.ylabel('NMI score')\n",
    "plt.xlabel('eigenvector window')\n",
    "plt.title(f'{dataset_name} dataset')"
   ]
  },
  {
   "cell_type": "code",
   "execution_count": null,
   "id": "10a9f334",
   "metadata": {},
   "outputs": [],
   "source": []
  },
  {
   "cell_type": "code",
   "execution_count": null,
   "id": "5e92f306",
   "metadata": {},
   "outputs": [],
   "source": []
  }
 ],
 "metadata": {
  "kernelspec": {
   "display_name": "Python 3",
   "language": "python",
   "name": "python3"
  },
  "language_info": {
   "codemirror_mode": {
    "name": "ipython",
    "version": 3
   },
   "file_extension": ".py",
   "mimetype": "text/x-python",
   "name": "python",
   "nbconvert_exporter": "python",
   "pygments_lexer": "ipython3",
   "version": "3.9.5"
  }
 },
 "nbformat": 4,
 "nbformat_minor": 5
}
