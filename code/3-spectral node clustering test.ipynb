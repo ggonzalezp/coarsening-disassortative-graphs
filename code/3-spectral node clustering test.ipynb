{
 "cells": [
  {
   "cell_type": "code",
   "execution_count": 1,
   "id": "82a8ce42",
   "metadata": {},
   "outputs": [],
   "source": [
    "import numpy as np\n",
    "from sklearn.metrics import normalized_mutual_info_score\n",
    "\n",
    "import torch\n",
    "import torch.nn.functional as F\n",
    "import torch_geometric as tg\n",
    "from torch_geometric.nn import DenseSAGEConv, dense_diff_pool, dense_mincut_pool\n",
    "from torch_geometric.utils import to_dense_adj\n",
    "\n",
    "from dataset import load_pyg_dataset\n",
    "\n",
    "device = torch.device('cuda' if torch.cuda.is_available() else 'cpu')\n",
    "\n",
    "from tqdm import trange, tqdm"
   ]
  },
  {
   "cell_type": "code",
   "execution_count": 2,
   "id": "d62ecb10",
   "metadata": {},
   "outputs": [],
   "source": [
    "from scipy import sparse\n",
    "from scipy.linalg import eigh\n",
    "from scipy.sparse.linalg import eigsh\n",
    "from scipy.sparse.linalg import eigs\n",
    "from scipy.sparse.csgraph import connected_components\n",
    "from scipy.sparse.csgraph import laplacian as csgraph_laplacian\n",
    "\n",
    "from sklearn.utils.fixes import lobpcg\n",
    "from sklearn.utils import check_random_state\n",
    "from sklearn.utils import check_symmetric, check_array\n",
    "from sklearn.utils.extmath import _deterministic_vector_sign_flip\n",
    "from sklearn.cluster._kmeans import k_means\n",
    "from sklearn.metrics.pairwise import pairwise_kernels\n",
    "import sklearn.metrics.pairwise as kernels\n",
    "\n",
    "import matplotlib.pyplot as plt\n"
   ]
  },
  {
   "cell_type": "code",
   "execution_count": null,
   "id": "958fd080",
   "metadata": {},
   "outputs": [],
   "source": []
  },
  {
   "cell_type": "code",
   "execution_count": 3,
   "id": "84862405",
   "metadata": {},
   "outputs": [],
   "source": [
    "# pooling = 'mincut' #(options: diffpool, mincut)\n",
    "dataset_name = 'Wisconsin'\n",
    "\n",
    "# #Pooling selector\n",
    "# pooling_selector = {\n",
    "#     'diffpool': dense_diff_pool,\n",
    "#     'mincut': dense_mincut_pool\n",
    "# }"
   ]
  },
  {
   "cell_type": "code",
   "execution_count": 4,
   "id": "a817d4d8",
   "metadata": {},
   "outputs": [
    {
     "name": "stdout",
     "output_type": "stream",
     "text": [
      "The obtained data Wisconsin has 251 nodes, 515 edges, 1703 features, 5 labels, \n"
     ]
    }
   ],
   "source": [
    "data = load_pyg_dataset(\n",
    "    data_name=dataset_name,\n",
    "    device=device\n",
    ")\n",
    "num_clusters = data.y.max().tolist()+1\n",
    "data.adj = to_dense_adj(data.edge_index)"
   ]
  },
  {
   "cell_type": "code",
   "execution_count": 5,
   "id": "0497e8eb",
   "metadata": {},
   "outputs": [],
   "source": [
    "def create_affinity_matrix(x, adj, metric='rbf', kernel_params=None):\n",
    "    \"\"\"metric=None uses just the adjacency matrix\"\"\"\n",
    "    adj = np.maximum(adj, adj.T)\n",
    "    adj = np.maximum(adj, np.eye(adj.shape[0]))\n",
    "    if metric is None:\n",
    "        return adj\n",
    "    return pairwise_kernels(x, metric=metric, **kernel_params) * adj"
   ]
  },
  {
   "cell_type": "code",
   "execution_count": 45,
   "id": "cf0f2508",
   "metadata": {},
   "outputs": [],
   "source": [
    "def spectral_clustering(affinity, *, p1=0.00, p2=0.10, n_clusters=8, n_init=10, verbose=False):\n",
    "\n",
    "    random_state = check_random_state(None)\n",
    "#     n_components = n_clusters if n_components is None else n_components\n",
    "\n",
    "    # The first eigenvector is constant only for fully connected graphs\n",
    "    # and should be kept for spectral clustering (drop_first = False)\n",
    "    # See spectral_embedding documentation.\n",
    "#     maps = spectral_embedding(affinity, front=front, n_components=n_components,\n",
    "#                               eigen_solver=eigen_solver,\n",
    "#                               random_state=random_state,\n",
    "#                               eigen_tol=eigen_tol, drop_first=False)\n",
    "\n",
    "    \n",
    "    n = affinity.shape[0]\n",
    "    laplacian, dd = csgraph_laplacian(sparse.coo_matrix(affinity), normed=True,\n",
    "                                      return_diag=True)\n",
    "    \n",
    "    evalues, evectors = eigsh(laplacian, k=n-1)\n",
    "#     print(evectors)\n",
    "    \n",
    "    k1 = int(n * p1)\n",
    "    k2 = int(n * p2)\n",
    "    maps = evectors[:, k1:k2]\n",
    "    \n",
    "    if verbose:\n",
    "        print(f'Computing label assignment using {assign_labels}')\n",
    "\n",
    "#     if assign_labels == 'kmeans':\n",
    "    _, labels, _ = k_means(maps, n_clusters, random_state=random_state,\n",
    "                           n_init=n_init, verbose=verbose)\n",
    "#     else:\n",
    "#         labels = discretize(maps, random_state=random_state)\n",
    "\n",
    "    return labels\n"
   ]
  },
  {
   "cell_type": "code",
   "execution_count": 47,
   "id": "84c36fd2",
   "metadata": {},
   "outputs": [],
   "source": [
    "def test(p1, p2, metric='rbf', kernel_params=None, verbose=False, adj_np=None):\n",
    "    if adj_np is None:\n",
    "        adj_np = create_affinity_matrix(data.x.cpu().numpy(), data.adj[0].cpu().numpy(), \n",
    "                                        metric=metric, kernel_params=kernel_params)\n",
    "    pred_node_label = spectral_clustering(adj_np, p1=p1, p2=p2, n_clusters=num_clusters)\n",
    "#     else:\n",
    "#         from sklearn.cluster import SpectralClustering\n",
    "#         cluster = SpectralClustering(n_clusters=num_clusters, affinity='precomputed', eigen_solver='amg')\n",
    "#         cluster.fit(adj_np)\n",
    "#         pred_node_label = cluster.labels_\n",
    "    \n",
    "    truth_node_labels = data.y.cpu().numpy()\n",
    "    \n",
    "    if verbose:\n",
    "        bins = np.arange(num_clusters + 1) - 0.5\n",
    "        plt.hist(pred_node_label, bins=bins)\n",
    "        print(pred_node_label.sum())\n",
    "        plt.show()\n",
    "        plt.hist(truth_node_labels, bins=bins)\n",
    "        plt.show()\n",
    "        \n",
    "    nmi = normalized_mutual_info_score(truth_node_labels.flatten(), pred_node_label.flatten())\n",
    "    return nmi\n",
    "\n",
    "def multitest(n_runs=40, **kwargs):\n",
    "    scores = []\n",
    "    for it in trange(n_runs):\n",
    "        val = test(**kwargs)\n",
    "        scores.append(val)\n",
    "\n",
    "    return np.mean(scores), np.std(scores)"
   ]
  },
  {
   "cell_type": "code",
   "execution_count": 48,
   "id": "4f1aaf0e",
   "metadata": {},
   "outputs": [
    {
     "name": "stderr",
     "output_type": "stream",
     "text": [
      "100%|██████████| 100/100 [00:17<00:00,  5.85it/s]\n"
     ]
    },
    {
     "data": {
      "text/plain": [
       "(0.05171197111696214, 0.018478562387269467)"
      ]
     },
     "execution_count": 48,
     "metadata": {},
     "output_type": "execute_result"
    }
   ],
   "source": [
    "multitest(100, p1=0.0, p2=0.1, metric='rbf', kernel_params={'gamma': 0.001})"
   ]
  },
  {
   "cell_type": "code",
   "execution_count": 53,
   "id": "87f8c5a7",
   "metadata": {},
   "outputs": [
    {
     "name": "stderr",
     "output_type": "stream",
     "text": [
      "100%|██████████| 1000/1000 [01:56<00:00,  8.59it/s]\n",
      "100%|██████████| 1000/1000 [02:04<00:00,  8.06it/s]\n",
      "100%|██████████| 1000/1000 [01:59<00:00,  8.35it/s]\n",
      "100%|██████████| 1000/1000 [01:54<00:00,  8.70it/s]\n",
      "100%|██████████| 1000/1000 [01:47<00:00,  9.27it/s]\n",
      "100%|██████████| 1000/1000 [01:47<00:00,  9.34it/s]\n",
      "100%|██████████| 1000/1000 [02:14<00:00,  7.42it/s]\n",
      "100%|██████████| 1000/1000 [02:12<00:00,  7.53it/s]\n",
      "100%|██████████| 1000/1000 [02:01<00:00,  8.23it/s]\n",
      "100%|██████████| 1000/1000 [01:48<00:00,  9.25it/s]\n"
     ]
    }
   ],
   "source": [
    "p1s = np.linspace(0., 1., 10, endpoint=False)\n",
    "\n",
    "vals = []\n",
    "stds = []\n",
    "\n",
    "adj_np = create_affinity_matrix(data.x.cpu().numpy(), data.adj[0].cpu().numpy(), \n",
    "                                        metric='rbf', kernel_params={'gamma': 0.001})\n",
    "\n",
    "for p1 in (p1s):\n",
    "    p2 = p1 + 0.1\n",
    "    val, std = multitest(1000, p1=p1, p2=p2, adj_np=adj_np)\n",
    "    vals.append(val)\n",
    "    stds.append(std)"
   ]
  },
  {
   "cell_type": "code",
   "execution_count": 54,
   "id": "b3081ab7",
   "metadata": {},
   "outputs": [],
   "source": [
    "vals = np.array(vals)\n",
    "stds = np.array(stds)"
   ]
  },
  {
   "cell_type": "code",
   "execution_count": 58,
   "id": "85c836c0",
   "metadata": {},
   "outputs": [
    {
     "data": {
      "text/plain": [
       "Text(0, 0.5, 'NMI score')"
      ]
     },
     "execution_count": 58,
     "metadata": {},
     "output_type": "execute_result"
    },
    {
     "data": {
      "image/png": "[encoded data removed]",
      "text/plain": [
       "<Figure size 432x288 with 1 Axes>"
      ]
     },
     "metadata": {
      "needs_background": "light"
     },
     "output_type": "display_data"
    }
   ],
   "source": [
    "plt.plot(p1s, vals)\n",
    "plt.fill_between(p1s, vals + stds, vals - stds, alpha=0.5)\n",
    "plt.ylabel('NMI score')\n",
    "plt.xlabel('')"
   ]
  },
  {
   "cell_type": "code",
   "execution_count": null,
   "id": "ca1ce4ee",
   "metadata": {},
   "outputs": [],
   "source": []
  },
  {
   "cell_type": "code",
   "execution_count": null,
   "id": "aca3c59b",
   "metadata": {},
   "outputs": [],
   "source": []
  }
 ],
 "metadata": {
  "kernelspec": {
   "display_name": "Python 3",
   "language": "python",
   "name": "python3"
  },
  "language_info": {
   "codemirror_mode": {
    "name": "ipython",
    "version": 3
   },
   "file_extension": ".py",
   "mimetype": "text/x-python",
   "name": "python",
   "nbconvert_exporter": "python",
   "pygments_lexer": "ipython3",
   "version": "3.9.5"
  }
 },
 "nbformat": 4,
 "nbformat_minor": 5
}
